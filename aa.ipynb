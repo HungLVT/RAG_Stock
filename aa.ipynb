{
 "cells": [
  {
   "cell_type": "code",
   "execution_count": 23,
   "metadata": {},
   "outputs": [
    {
     "data": {
      "text/plain": [
       "True"
      ]
     },
     "execution_count": 23,
     "metadata": {},
     "output_type": "execute_result"
    }
   ],
   "source": [
    "import dotenv\n",
    "import os\n",
    "\n",
    "dotenv.load_dotenv('src/.env')\n"
   ]
  },
  {
   "cell_type": "code",
   "execution_count": 24,
   "metadata": {},
   "outputs": [],
   "source": [
    "from src.chroma_loader import load_data, create_chroma_db, load_existing_chroma_db\n",
    "from src.model_handler import create_retriever, retrieve_documents, generate_answer\n"
   ]
  },
  {
   "cell_type": "code",
   "execution_count": 25,
   "metadata": {},
   "outputs": [],
   "source": [
    "docs = load_data('./data/news_data.csv')"
   ]
  },
  {
   "cell_type": "code",
   "execution_count": 26,
   "metadata": {},
   "outputs": [
    {
     "name": "stdout",
     "output_type": "stream",
     "text": [
      "page_content='title: 16/09: Đọc gì trước giờ giao dịch chứng khoán?\n",
      "link: https://vietstock.vn/2024/09/1609-doc-gi-truoc-gio-giao-dich-chung-khoan-830-1228911.htm\n",
      "content: * Novagroup của Chủ tịch Bùi Thành Nhơn hoàn tất bán 3 triệu cp NVL. CTCP Novagroup vừa thông báo đã bán khớp lệnh 3 triệu cp CTCP Tập đoàn Đầu tư Địa ốc No Va (HOSE: NVL) vào ngày 06/09/2024. >>> * Hai pháp nhân liên quan KHG tại siêu dự án Gò Găng bất ngờ giảm mạnh vốn. Hai pháp nhân liên quan KHG tham gia vào siêu dự án Gò Găng mới đây bất ngờ giảm mạnh vốn điều lệ đăng ký từ hàng ngàn tỷ đồng chỉ còn vài trăm tỷ đồng. KHG cũng đồng thời lên tiếng giải trình trước yêu cầu của UBCKNN về dự án khủng này. >>> * Các quỹ ETF có NAV 12,600 tỷ đồng sẽ mua mạnh cổ phiếu bất động sản trong quý 4?. Các quỹ ETF với tổng giá trị tài sản ròng (NAV) 12,600 tỷ đồng có thể sẽ mua mạnh cổ phiếu bất động sản trong kỳ review quý 4/2024. Đây là dự báo của các chuyên viên phân tích tại SSI Research - bộ phận phân tích của CTCK SSI. >>> * Phó tướng của Warren Buffett bán một nửa lượng cổ phiếu tại Berkshire Hathaway. Ajit Jain - Phó Chủ tịch phụ trách mảng bảo hiểm của Berkshire Hathaway, đã quyết định bán đi hơn một nửa số cổ phiếu loại A của mình. Thương vụ này có giá trị lên tới 139 triệu USD, với mỗi cổ phiếu được bán ra ở mức khoảng 695,418 USD. >>> * Giá vàng sẽ tiếp tục tăng trong các tháng cuối năm?. Nhiều yếu tố thúc đẩy giá vàng tăng mạnh, giá vàng thế giới có thể lên mốc 2,800 USD/oz vào cuối năm 2024. >>> * Trump đắc cử, kinh tế Mỹ sẽ ra sao?. Chúng ta không thể biết được nền kinh tế Mỹ sẽ phải đối mặt với những cú sốc nào trong 4 năm tới. Nhưng xét đến các mục tiêu đã nêu và đề xuất chính sách thiếu cân nhắc của Donald Trump thì tôi không còn nghi ngờ gì nữa khi khẳng định rằng, nền kinh tế năm 2028 sẽ mạnh hơn và bình đẳng hơn nếu Kamala Harris giành chiến thắng trong cuộc bầu cử tổng thống vào tháng 11/2024. >>> * Mỹ chính thức tăng thuế với xe điện, pin mặt trời, chất bán dẫn của Trung Quốc. Chính quyền của Tổng thống Joe Biden đã chính thức phê duyệt việc tăng thuế đối với hàng tỷ USD hàng hóa Trung Quốc trong ngày 13/09, với phần lớn các mức thuế mới sẽ có hiệu lực chỉ trong vòng hai tuần tới. >>> * Tiger Global, Microsoft, Nvidia và Apple nhảy vào đợt huy động vốn của OpenAI, định giá lên tới 150 tỷ USD. Tiger Global - quỹ đầu tư có tiếng tăm từ New York - đang chuẩn bị tham gia vào vòng gọi vốn mới nhất của OpenAI. Thông tin này đến từ các nguồn tin thân cận, tiết lộ rằng startup trí tuệ nhân tạo đình đám này có thể đạt mức định giá khổng lồ hơn 150 tỷ USD. >>> * Sắp diễn ra thương vụ \"sang tay\" cổ phần VFS trị giá hàng trăm tỷ? * Khải Hoàn (KHG) và công ty liên quan làm gì tại dự án 6,000 tỷ đồng ở Vĩnh Long? * Chứng khoán VIX \"ế\" gần 80 triệu cp chào bán cho cổ đông * Hưng Thịnh Land kinh doanh ra sao trong nửa đầu năm? * HTN muốn dùng 434 tỷ đồng từ đợt chào bán cho cổ đông hiện hữu để trả nợ cho BIDV và MSB * Chuyên gia DNSE: Lộ trình nâng hạng rõ ràng hơn sẽ là điểm sáng hút vốn ngoại trở lại * ABS Research: Siêu bão Yagi và hành động của Fed là trọng tâm của vĩ mô tháng 9 * EVF \"bật bãi\" khỏi danh mục VNM ETF sau 1 quý bổ sung * Chứng khoán Phố Wall thay Tổng Giám đốc, gọi tên cựu Phó Tổng TPS * Cổ phiếu nào khiến đà giảm của VN-Index chưa dừng lại? * Cổ tức tuần từ 16-20/09: Cao nhất tới 50% * Đại gia Thái mộng giành ngôi vương bán lẻ thực phẩm Việt * Chủ điện mặt trời Hồng Liêm 3 báo lãi đậm nhưng chậm thanh toán trái phiếu * Quỹ đầu tư giao dịch “yếu ớt” * Chính sách bảo hộ giúp giá đường Việt Nam kìm hãm đà giảm khi giá thế giới rớt mạnh * Nghìn tỷ bay theo bão, chủ lồng Quảng Ninh mong ngân hàng cho vay làm lại từ đầu * Giá USD vẫn dò đáy * Loại cà phê chủ lực của Việt Nam tăng giá kỷ lục chỉ trong 1 tuần * Chuyển gần 142ha đất trồng lúa để làm khu đô thị hơn 72 ngàn tỷ tại Biên Hòa * Geleximco Hưng Phú làm chủ đầu tư khu công nghiệp 2 ngàn tỷ tại Thái Bình * Hết lo đất ở, nay đến lo đất nghĩa trang * Nhà giàu ôm đất, tràn lan khu đô thị 'ma', nên đánh thuế người có nhiều nhà đất? * Chỉ đầu tư cảng trung chuyển quốc tế Cần Giờ khi đáp ứng yêu cầu vì lợi ích quốc gia * Tổng giám đốc Kingland chiếm đoạt tiền của hơn 100 khách hàng bằng dự án ‘ma’ * Những vùng tối của khủng hoảng nhà ở * Khoảng 2.900 tỷ đồng để khắc phục các tuyến quốc lộ bị hư hỏng do mưa lũ * Trung Quốc trừng phạt PwC vì vụ Evergrande * Trái ngược với thị trường, Fitch dự báo Fed sẽ giảm lãi suất từ từ * Tiền vẫn chảy mạnh vào các quỹ ETF chứng khoán * Trung Quốc có thể tránh \"vết xe đổ\" của Nhật Bản nếu học hỏi Hàn Quốc * Trung Quốc có thể sẽ sớm có nhiều thú cưng hơn… trẻ con! * Chứng khoán Campuchia đón thêm 55,000 tài khoản mới * Thị trường gạo Campuchia sắp đón nhận thêm nhiều thỏa thuận mới\n",
      "date: 16/09/2024 06:30' metadata={'source': './data/news_data.csv', 'row': 0, 'date': '16/09/2024'}\n"
     ]
    }
   ],
   "source": [
    "print(docs[0])"
   ]
  },
  {
   "cell_type": "code",
   "execution_count": 34,
   "metadata": {},
   "outputs": [
    {
     "name": "stdout",
     "output_type": "stream",
     "text": [
      "page_content='title: Chứng khoán phái sinh tuần 26-30/08/2024: Khối ngoại quay lại bán ròng\n",
      "link: https://vietstock.vn/2024/08/chung-khoan-phai-sinh-tuan-26-30082024-khoi-ngoai-quay-lai-ban-rong-1636-1222487.htm\n",
      "content: Các hợp đồng tương lai hầu hết đều tăng trong phiên giao dịch ngày 23/08/2024. Cụ thể, VN30F2409 (F2409) tăng 0.08%, đạt 1,315.3 điểm; VN30F2410 (F2410) tăng 0.21%, đạt 1,316 điểm; hợp đồng VN30F2412 (F2412) giảm 0.3%, còn 1,310.1 điểm; hợp đồng VN30F2503 (F2503) tăng 0.11%, đạt 1,316.4 điểm. Chỉ số cơ sở VN30-Index kết phiên ở mức 1,321.15 điểm. Trong tuần giao dịch 19-23/08/2024, hợp đồng VN30F2409 trong hai phiên đầu tuần có mức tăng khá ấn tượng khi chỉ số bật tăng vào neo giữ sắc xanh trên mốc tham chiếu. Nhưng áp lực bán bắt đầu xuất hiện vào giai đoạn giữa tuần khiến F2409 dần hạ nhiệt và nỗ lực kéo chỉ số đến từ phe Long đã giúp cho hợp đồng này nhanh chóng phục hồi ngay sau đó. Diễn biến giằng co diễn ra và kéo dài trong suốt hai phiên cuối tuần, giúp cho F2409 đóng cửa ở mức 1,321.3 điểm. Đồ thị intraday của VN30F2409 trong giai đoạn 19-23/08/2024  Nguồn: https://stockchart.vietstock.vn/ Kết phiên, basis hợp đồng VN30F2409 mở rộng so với phiên trước đó và đạt giá trị -5.85 điểm. Điều này cho thấy tâm lý nhà đầu tư đã bi quan hơn. Biến động VN30F2409 và VN30-Index  Nguồn: VietstockFinance Lưu ý: Basis được tính theo công thức sau: Basis = Giá hợp đồng tương lai - VN30-Index Khối lượng và giá trị giao dịch của thị trường phái sinh lần lượt giảm 2.83% và 2.71% so với phiên ngày 22/08/2024. Tính chung cả tuần, khối lượng và giá trị giao dịch tuần lần lượt giảm 2.08% và tăng 0.82% so với tuần trước. Khối ngoại quay lại bán ròng trong phiên cuối tuần với khối lượng giao dịch đạt 1,625 hợp đồng. Tính chung cả tuần, khối ngoại bán ròng tổng cộng 1,199 hợp đồng. Biến động khối lượng giao dịch tuần của thị trường phái sinh. Đvt: Hợp đồng  Nguồn: VietstockFinance Dựa trên phương pháp định giá hợp lý với thời điểm khởi đầu ngày 26/08/2024, khung giá hợp lý của các hợp đồng tương lai đang được giao dịch trên thị trường được thể hiện như sau:  Nguồn: VietstockFinance Lưu ý: Chi phí cơ hội trong mô hình định giá được điều chỉnh để phù hợp với thị trường Việt Nam. Cụ thể, lãi suất tín phiếu phi rủi ro (tín phiếu Chính phủ) sẽ được thay thế bằng lãi suất tiền gửi trung bình của các ngân hàng lớn với sự hiệu chỉnh kỳ hạn phù hợp với từng loại hợp đồng tương lai. Trong phiên giao dịch ngày 23/08/2024, VN30-Index tăng điểm nhẹ đồng thời xuất hiện mẫu hình nến Doji cùng với thanh khoản có sự sụt giảm đáng kể và nằm dưới mức trung bình 20 phiên cho thấy nhà đầu tư đang khá cẩn trọng trong giao dịch. Bên cạnh đó, VN30-Index đang test lại ngưỡng Fibonacci Projection 50% (tương đương vùng 1,315-1,330 điểm) trong bối cảnh chỉ báo Stochastic Oscillator tiếp tục tiến sâu vào vào vùng quá mua (overbought). Nếu tín hiệu bán xuất hiện trở lại và chỉ số thất bại trong việc test lại vùng kháng cự này thì rủi ro điều chỉnh sẽ tăng cao trong các phiên tới.  Nguồn: VietstockUpdater Dựa trên phương pháp định giá hợp lý với thời điểm khởi đầu ngày 26/08/2024, khung giá hợp lý của các hợp đồng tương lai đang được giao dịch trên thị trường được thể hiện như sau:  Nguồn: VietstockFinance Lưu ý: Chi phí cơ hội trong mô hình định giá được điều chỉnh để phù hợp với thị trường Việt Nam. Cụ thể, lãi suất tín phiếu phi rủi ro (tín phiếu Chính phủ) sẽ được thay thế bằng lãi suất tiền gửi trung bình của các ngân hàng lớn với sự hiệu chỉnh kỳ hạn phù hợp với từng loại hợp đồng tương lai. Theo định giá trên thì hợp đồng GB05F2409, GB05F2412 và GB05F2503 hiện đang có giá khá hấp dẫn. Nhà đầu tư có thể tập trung chú ý và mua vào trong thời gian tới do các hợp đồng tương lai này đang có giá hời trên thị trường.\n",
      "date: 24/08/2024 20:00' metadata={'source': './data/news_data.csv', 'row': 5, 'date': '24/08/2024'}\n"
     ]
    }
   ],
   "source": [
    "print(docs[5])"
   ]
  },
  {
   "cell_type": "code",
   "execution_count": 27,
   "metadata": {},
   "outputs": [
    {
     "name": "stdout",
     "output_type": "stream",
     "text": [
      "Creating Chroma database...\n",
      "Documents split successfully. Number of documents after splitting: 100\n"
     ]
    },
    {
     "name": "stderr",
     "output_type": "stream",
     "text": [
      "f:\\HK7\\DV\\rag_stock\\rag\\Lib\\site-packages\\huggingface_hub\\file_download.py:797: FutureWarning: `resume_download` is deprecated and will be removed in version 1.0.0. Downloads always resume when possible. If you want to force a new download, use `force_download=True`.\n",
      "  warnings.warn(\n"
     ]
    },
    {
     "name": "stdout",
     "output_type": "stream",
     "text": [
      "Embeddings loaded successfully.\n",
      "Chroma database created successfully.\n",
      "Chroma database saved to chroma_db\n"
     ]
    }
   ],
   "source": [
    "chroma_db = create_chroma_db(docs, 'chroma_db')\n",
    "# chroma_db = load_existing_chroma_db('chroma_db')\n"
   ]
  },
  {
   "cell_type": "code",
   "execution_count": 28,
   "metadata": {},
   "outputs": [],
   "source": [
    "query = 'Tình hình chứng khoán ngày 16/09/2024 như thế nào?'\n",
    "retriever, filter_condition = create_retriever(chroma_db, query)"
   ]
  },
  {
   "cell_type": "code",
   "execution_count": 10,
   "metadata": {},
   "outputs": [
    {
     "name": "stderr",
     "output_type": "stream",
     "text": [
      "f:\\HK7\\DV\\rag_stock\\src\\model_handler.py:109: LangChainDeprecationWarning: The method `BaseRetriever.get_relevant_documents` was deprecated in langchain-core 0.1.46 and will be removed in 1.0. Use invoke instead.\n",
      "  docs = ensemble_retriever.get_relevant_documents(query=query)\n"
     ]
    }
   ],
   "source": [
    "relevant_docs = retrieve_documents(retriever, query=query, top_k=5)\n",
    "\n"
   ]
  },
  {
   "cell_type": "code",
   "execution_count": 11,
   "metadata": {},
   "outputs": [
    {
     "name": "stdout",
     "output_type": "stream",
     "text": [
      "[Document(metadata={'date': '16/09/2024', 'row': 0, 'source': './data/news_data.csv'}, page_content='title: 16/09: Đọc gì trước giờ giao dịch chứng khoán?\\nlink: https://vietstock.vn/2024/09/1609-doc-gi-truoc-gio-giao-dich-chung-khoan-830-1228911.htm\\ncontent: * Novagroup của Chủ tịch Bùi Thành Nhơn hoàn tất bán 3 triệu cp NVL. CTCP Novagroup vừa thông báo đã bán khớp lệnh 3 triệu cp CTCP Tập đoàn Đầu tư Địa ốc No Va (HOSE: NVL) vào ngày 06/09/2024. >>> * Hai pháp nhân liên quan KHG tại siêu dự án Gò Găng bất ngờ giảm mạnh vốn. Hai pháp nhân liên quan KHG tham gia vào siêu dự án Gò Găng mới đây bất ngờ giảm mạnh vốn điều lệ đăng ký từ hàng ngàn tỷ đồng chỉ còn vài trăm tỷ đồng. KHG cũng đồng thời lên tiếng giải trình trước yêu cầu của UBCKNN về dự án khủng này. >>> * Các quỹ ETF có NAV 12,600 tỷ đồng sẽ mua mạnh cổ phiếu bất động sản trong quý 4?. Các quỹ ETF với tổng giá trị tài sản ròng (NAV) 12,600 tỷ đồng có thể sẽ mua mạnh cổ phiếu bất động sản trong kỳ review quý 4/2024. Đây là dự báo của các chuyên viên phân tích tại SSI Research - bộ phận phân tích của CTCK SSI. >>> * Phó tướng của Warren Buffett bán một nửa lượng cổ phiếu tại Berkshire Hathaway. Ajit Jain - Phó Chủ tịch phụ trách mảng bảo hiểm của Berkshire Hathaway, đã quyết định bán đi hơn một nửa số cổ phiếu loại A của mình. Thương vụ này có giá trị lên tới 139 triệu USD, với mỗi cổ phiếu được bán ra ở mức khoảng 695,418 USD. >>> * Giá vàng sẽ tiếp tục tăng trong các tháng cuối năm?. Nhiều yếu tố thúc đẩy giá vàng tăng mạnh, giá vàng thế giới có thể lên mốc 2,800 USD/oz vào cuối năm 2024. >>> * Trump đắc cử, kinh tế Mỹ sẽ ra sao?. Chúng ta không thể biết được nền kinh tế Mỹ sẽ phải đối mặt với những cú sốc nào trong 4 năm tới. Nhưng xét đến các mục tiêu đã nêu và đề xuất chính sách thiếu cân nhắc của Donald Trump thì tôi không còn nghi ngờ gì nữa khi khẳng định rằng, nền kinh tế năm 2028 sẽ mạnh hơn và bình đẳng hơn nếu Kamala Harris giành chiến thắng trong cuộc bầu cử tổng thống vào tháng 11/2024. >>> * Mỹ chính thức tăng thuế với xe điện, pin mặt trời, chất bán dẫn của Trung Quốc. Chính quyền của Tổng thống Joe Biden đã chính thức phê duyệt việc tăng thuế đối với hàng tỷ USD hàng hóa Trung Quốc trong ngày 13/09, với phần lớn các mức thuế mới sẽ có hiệu lực chỉ trong vòng hai tuần tới. >>> * Tiger Global, Microsoft, Nvidia và Apple nhảy vào đợt huy động vốn của OpenAI, định giá lên tới 150 tỷ USD. Tiger Global - quỹ đầu tư có tiếng tăm từ New York - đang chuẩn bị tham gia vào vòng gọi vốn mới nhất của OpenAI. Thông tin này đến từ các nguồn tin thân cận, tiết lộ rằng startup trí tuệ nhân tạo đình đám này có thể đạt mức định giá khổng lồ hơn 150 tỷ USD. >>> * Sắp diễn ra thương vụ \"sang tay\" cổ phần VFS trị giá hàng trăm tỷ? * Khải Hoàn (KHG) và công ty liên quan làm gì tại dự án 6,000 tỷ đồng ở Vĩnh Long? * Chứng khoán VIX \"ế\" gần 80 triệu cp chào bán cho cổ đông * Hưng Thịnh Land kinh doanh ra sao trong nửa đầu năm? * HTN muốn dùng 434 tỷ đồng từ đợt chào bán cho cổ đông hiện hữu để trả nợ cho BIDV và MSB * Chuyên gia DNSE: Lộ trình nâng hạng rõ ràng hơn sẽ là điểm sáng hút vốn ngoại trở lại * ABS Research: Siêu bão Yagi và hành động của Fed là trọng tâm của vĩ mô tháng 9 * EVF \"bật bãi\" khỏi danh mục VNM ETF sau 1 quý bổ sung * Chứng khoán Phố Wall thay Tổng Giám đốc, gọi tên cựu Phó Tổng TPS * Cổ phiếu nào khiến đà giảm của VN-Index chưa dừng lại? * Cổ tức tuần từ 16-20/09: Cao nhất tới 50% * Đại gia Thái mộng giành ngôi vương bán lẻ thực phẩm Việt * Chủ điện mặt trời Hồng Liêm 3 báo lãi đậm nhưng chậm thanh toán trái phiếu * Quỹ đầu tư giao dịch “yếu ớt” * Chính sách bảo hộ giúp giá đường Việt Nam kìm hãm đà giảm khi giá thế giới rớt mạnh * Nghìn tỷ bay theo bão, chủ lồng Quảng Ninh mong ngân hàng cho vay làm lại từ đầu * Giá USD vẫn dò đáy * Loại cà phê chủ lực của Việt Nam tăng giá kỷ lục chỉ trong 1 tuần * Chuyển gần 142ha đất trồng lúa để làm khu đô thị hơn 72 ngàn tỷ tại Biên Hòa * Geleximco Hưng Phú làm chủ đầu tư khu công nghiệp 2 ngàn tỷ tại Thái Bình * Hết lo đất ở, nay đến lo đất nghĩa trang * Nhà giàu ôm đất, tràn lan khu đô thị \\'ma\\', nên đánh thuế người có nhiều nhà đất? * Chỉ đầu tư cảng trung chuyển quốc tế Cần Giờ khi đáp ứng yêu cầu vì lợi ích quốc gia * Tổng giám đốc Kingland chiếm đoạt tiền của hơn 100 khách hàng bằng dự án ‘ma’ * Những vùng tối của khủng hoảng nhà ở * Khoảng 2.900 tỷ đồng để khắc phục các tuyến quốc lộ bị hư hỏng do mưa lũ * Trung Quốc trừng phạt PwC vì vụ Evergrande * Trái ngược với thị trường, Fitch dự báo Fed sẽ giảm lãi suất từ từ * Tiền vẫn chảy mạnh vào các quỹ ETF chứng khoán * Trung Quốc có thể tránh \"vết xe đổ\" của Nhật Bản nếu học hỏi Hàn Quốc * Trung Quốc có thể sẽ sớm có nhiều thú cưng hơn… trẻ con! * Chứng khoán Campuchia đón thêm 55,000 tài khoản mới * Thị trường gạo Campuchia sắp đón nhận thêm nhiều thỏa thuận mới\\ndate: 16/09/2024 06:30'), Document(metadata={'date': '01/07/2024', 'row': 28, 'source': './data/news_data.csv'}, page_content='title: Dòng tiền chảy vào cổ chứng khoán, phân hóa ở nhóm bất động sản\\nlink: https://vietstock.vn/2024/07/dong-tien-chay-vao-co-chung-khoan-phan-hoa-o-nhom-bat-dong-san-830-1203502.htm\\ncontent: Thị trường chứng khoán giảm điểm trong tuần giao dịch cuối cùng của tháng 6, VN-Index và HNX-Index giảm gần 3% về còn 1,245.3 điểm và 237.59 điểm. Thanh khoản thị trường tuần qua biến động nhẹ ở hai sàn niêm yết. Cụ thể, ở HOSE, khối lượng giao dịch giảm gần 2% về 880 triệu đơn vị/phiên, giá trị giao dịch giảm hơn 5% về 22 ngàn tỷ đồng/phiên. Còn ở HNX, sàn này ghi nhận khối lượng và giá trị giao dịch tăng trên 1% lên 71 triệu đơn vị/phiên và 1.4 ngàn tỷ đồng/phiên.  Tình hình thanh khoản chung không biến động nhiều, song, một số cổ phiếu bật tăng thanh khoản mạnh. DRC ghi nhận khối lượng giao dịch gấp gần 7 lần so với tuần trước, đạt mức 3.5 triệu cp/phiên. HID có khối lượng giao dịch gấp 5 lần tuần trước, đạt hơn 500,000 cp/phiên. Ngoài HID, một số cổ phiếu ngành điện khác như PPC, IDC cũng lọt nhóm tăng mạnh thanh khoản trên cả hai sàn. Nhóm chứng khoán là một trong những nhóm hút tiền nổi bật trong tuần qua. CTS, VDS, PSI, BVS, EVS, SHS, TVC, MBS, VFS là những mã nằm trong top tăng thanh khoản tại sàn HOSE và HNX. Tuy vậy, mức tăng vẫn chưa thật sự thuyết phục, tăng từ 10 - 60% so với tuần trước. Dòng tiền lại thể hiện sự phân hóa ở nhóm cổ phiếu bất động sản. Ở nhóm tăng có thể kể đến các cổ phiếu TDC, ITA, ITC, BCM, EVG, DTD. Ở nhóm giảm, BCG, VHM, CRE, AAV, IDJ, L14, NRC, VC7, NDN là những đại diện có thanh khoản tụt sâu so với tuần trước. Trong khi đó, nhiều cổ phiếu nông nghiệp bị rút tiền. HAG, AGM, PAN ghi nhận thanh khoản giảm 30 - 40%. Nhóm vật liệu xây dựng cũng giảm tiền khá đáng kể với sự góp mặt của các cổ phiếu HT1, TEG, BCC, PLC, VCS.   * Danh sách các mã tăng, giảm thanh khoản nhiều nhất xét đến khối lượng giao dịch bình quân trên 100,000 đơn vị/phiên.\\ndate: 01/07/2024 20:30'), Document(metadata={'date': '16/09/2024', 'row': 55, 'source': './data/news_data.csv'}, page_content='title: Thị trường chứng quyền 17/09/2024: Đỏ lửa cùng thị trường cơ sở\\nlink: https://vietstock.vn/2024/09/thi-truong-chung-quyen-17092024-do-lua-cung-thi-truong-co-so-1636-1229061.htm\\ncontent: Kết thúc phiên giao dịch ngày 16/09/2024, toàn thị trường có 11 mã tăng, 73 mã giảm và 11 mã tham chiếu. Độ rộng thị trường trong 20 phiên gần nhất. Đvt: Phần trăm (%)  Nguồn: VietstockFinance Trong phiên giao dịch ngày 16/09/2024, bên bán tiếp tục áp đảo thị trường khiến phần lớn các mã chứng quyền giảm giá. Cụ thể, các mã chứng quyền lớn trong nhóm giảm giá là CMWG2314, CFPT2314, CVHM2404 và CACB2305.  Nguồn: VietstockFinance Khối lượng giao dịch toàn thị trường trong phiên 16/09 đạt 47.74 triệu CW, tăng 23.44%; giá trị giao dịch đạt 25.38 tỷ đồng, tăng 0.39% so với phiên 13/09. Trong đó, CVRE2315 là mã dẫn đầu thị trường về khối lượng với 4.46 triệu CW; CVNM2401 dẫn đầu về giá trị giao dịch với 2.68 tỷ đồng. Khối ngoại quay lại bán ròng trong phiên 16/09 với tổng mức bán ròng đạt 458,000 CW. Trong đó, CVNM2314 và CSTB2333 là hai mã bị bán ròng nhiều nhất. Công ty chứng khoán SSI, HCM, ACBS, VND và KIS hiện đang là các tổ chức phát hành có nhiều mã chứng quyền nhất thị trường.  Nguồn: VietstockFinance   Nguồn: VietstockFinance Dựa trên phương pháp định giá phù hợp với thời điểm khởi đầu là ngày 17/09/2024, mức giá hợp lý của các chứng quyền đang được giao dịch trên thị trường được thể hiện như sau:  Nguồn: VietstockFinance Lưu ý: Chi phí cơ hội trong mô hình định giá được điều chỉnh để phù hợp với thị trường Việt Nam. Cụ thể, lãi suất tín phiếu phi rủi ro (tín phiếu Chính Phủ) sẽ được thay thế bằng lãi suất tiền gửi trung bình của các ngân hàng lớn với sự hiệu chỉnh kỳ hạn phù hợp với từng loại chứng quyền. Theo định giá trên, CMBB2318 và CVPB2322 hiện là hai mã chứng quyền có mức định giá hấp dẫn nhất. Những mã chứng quyền có effective gearing càng cao thì biến động tăng/giảm theo chứng khoán cơ sở sẽ càng lớn. Hiện CVPB2322 và CVNM2404 là hai mã chứng quyền có tỷ lệ effective gearing cao nhất thị trường.\\ndate: 16/09/2024 20:00')]\n"
     ]
    }
   ],
   "source": [
    "print(relevant_docs)"
   ]
  },
  {
   "cell_type": "code",
   "execution_count": 29,
   "metadata": {},
   "outputs": [
    {
     "name": "stdout",
     "output_type": "stream",
     "text": [
      "```json\n",
      "{\n",
      "  \"question\": \"Tình hình chứng khoán ngày 16/09/2024 như thế nào?\",\n",
      "  \"answer\": \"Ngày 16/09/2024, có một số thông tin đáng chú ý trong thị trường chứng khoán. Novagroup đã hoàn tất bán 3 triệu cổ phiếu NVL. Hai pháp nhân liên quan đến KHG tại siêu dự án Gò Găng đã giảm mạnh vốn điều lệ. Các quỹ ETF với tổng giá trị tài sản ròng 12,600 tỷ đồng dự kiến sẽ mua mạnh cổ phiếu bất động sản trong quý 4. Ajit Jain, Phó Chủ tịch Berkshire Hathaway, đã bán hơn một nửa số cổ phiếu của mình. Giá vàng dự báo sẽ tiếp tục tăng trong các tháng cuối năm. Ngoài ra, có thông tin về việc Mỹ tăng thuế đối với hàng hóa Trung Quốc và Tiger Global cùng các công ty lớn như Microsoft, Nvidia, Apple tham gia vào đợt huy động vốn của OpenAI với định giá lên tới 150 tỷ USD. Tình hình này có thể ảnh hưởng đến tâm lý nhà đầu tư và diễn biến thị trường trong thời gian tới.\"\n",
      "}\n",
      "```\n"
     ]
    }
   ],
   "source": [
    "output = generate_answer(chroma_db, query)\n",
    "print(output)"
   ]
  },
  {
   "cell_type": "code",
   "execution_count": 30,
   "metadata": {},
   "outputs": [
    {
     "name": "stdout",
     "output_type": "stream",
     "text": [
      "{\n",
      "  \"question\": \"Tình hình chứng khoán ngày 16/09/2024 như thế nào?\",\n",
      "  \"answer\": \"Ngày 16/09/2024, có một số thông tin đáng chú ý trong thị trường chứng khoán. Novagroup đã hoàn tất bán 3 triệu cổ phiếu NVL. Hai pháp nhân liên quan đến KHG tại siêu dự án Gò Găng đã giảm mạnh vốn điều lệ. Các quỹ ETF với tổng giá trị tài sản ròng 12,600 tỷ đồng dự kiến sẽ mua mạnh cổ phiếu bất động sản trong quý 4. Ajit Jain, Phó Chủ tịch Berkshire Hathaway, đã bán hơn một nửa số cổ phiếu của mình. Giá vàng dự báo sẽ tiếp tục tăng trong các tháng cuối năm. Ngoài ra, có thông tin về việc Mỹ tăng thuế đối với hàng hóa Trung Quốc và Tiger Global cùng các công ty lớn như Microsoft, Nvidia, Apple tham gia vào đợt huy động vốn của OpenAI với định giá lên tới 150 tỷ USD. Tình hình này có thể ảnh hưởng đến tâm lý nhà đầu tư và diễn biến thị trường trong thời gian tới.\"\n",
      "}\n"
     ]
    }
   ],
   "source": [
    "def remove_json_formatting(input_text):\n",
    "    # Loại bỏ dấu ```json và ``` nếu chúng có trong input_text\n",
    "    cleaned_text = input_text.strip(\"```json\").strip(\"```\").strip()\n",
    "    return cleaned_text\n",
    "\n",
    "output = remove_json_formatting(output)\n",
    "print(output)"
   ]
  },
  {
   "cell_type": "code",
   "execution_count": 31,
   "metadata": {},
   "outputs": [],
   "source": [
    "import json\n",
    "output = json.loads(output)"
   ]
  },
  {
   "cell_type": "code",
   "execution_count": 32,
   "metadata": {},
   "outputs": [
    {
     "name": "stdout",
     "output_type": "stream",
     "text": [
      "Ngày 16/09/2024, có một số thông tin đáng chú ý trong thị trường chứng khoán. Novagroup đã hoàn tất bán 3 triệu cổ phiếu NVL. Hai pháp nhân liên quan đến KHG tại siêu dự án Gò Găng đã giảm mạnh vốn điều lệ. Các quỹ ETF với tổng giá trị tài sản ròng 12,600 tỷ đồng dự kiến sẽ mua mạnh cổ phiếu bất động sản trong quý 4. Ajit Jain, Phó Chủ tịch Berkshire Hathaway, đã bán hơn một nửa số cổ phiếu của mình. Giá vàng dự báo sẽ tiếp tục tăng trong các tháng cuối năm. Ngoài ra, có thông tin về việc Mỹ tăng thuế đối với hàng hóa Trung Quốc và Tiger Global cùng các công ty lớn như Microsoft, Nvidia, Apple tham gia vào đợt huy động vốn của OpenAI với định giá lên tới 150 tỷ USD. Tình hình này có thể ảnh hưởng đến tâm lý nhà đầu tư và diễn biến thị trường trong thời gian tới.\n"
     ]
    }
   ],
   "source": [
    "output = output['answer']\n",
    "print(output)"
   ]
  },
  {
   "cell_type": "code",
   "execution_count": null,
   "metadata": {},
   "outputs": [],
   "source": []
  }
 ],
 "metadata": {
  "kernelspec": {
   "display_name": "rag",
   "language": "python",
   "name": "python3"
  },
  "language_info": {
   "codemirror_mode": {
    "name": "ipython",
    "version": 3
   },
   "file_extension": ".py",
   "mimetype": "text/x-python",
   "name": "python",
   "nbconvert_exporter": "python",
   "pygments_lexer": "ipython3",
   "version": "3.11.0"
  }
 },
 "nbformat": 4,
 "nbformat_minor": 2
}
